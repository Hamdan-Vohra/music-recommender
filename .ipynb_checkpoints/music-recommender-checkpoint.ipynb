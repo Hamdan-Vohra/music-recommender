{
 "cells": [
  {
   "cell_type": "code",
   "execution_count": null,
   "id": "8cc3429c-d3ed-46b3-9cbe-9cfe1799e9df",
   "metadata": {},
   "outputs": [],
   "source": [
    "import pandas as pd\n",
    "\n",
    "music_data = pd.read_csv('music.csv')\n",
    "print(f\"DataSize: {music_data.shape}\")\n",
    "print(f\"Statistics Analysis: \\n{music_data.describe()}\")\n",
    "    "
   ]
  },
  {
   "cell_type": "code",
   "execution_count": null,
   "id": "0bdd1999-2449-46d3-ac44-5f4bb290ed7d",
   "metadata": {},
   "outputs": [],
   "source": [
    "# splitting dataset into input and output set\n",
    "\n",
    "X = music_data.drop(columns = ['genre'])\n",
    "y = music_data['genre']\n",
    "# print(f\"Input Dataset : \\n{X}\")\n",
    "# print(f\"Output Dataset : \\n{y}\")"
   ]
  },
  {
   "cell_type": "code",
   "execution_count": null,
   "id": "7903bde5-cc39-4fa0-a1c7-e3e9fc25bb5c",
   "metadata": {},
   "outputs": [],
   "source": [
    "# to calculate accuracy we have to split dataset for training and testing\n",
    "from sklearn.model_selection import train_test_split\n",
    "\n",
    "X_train,X_test,y_train,y_test = train_test_split(X,y,test_size = 0.2) #splitting data set into 20% for testing and 80% for training"
   ]
  },
  {
   "cell_type": "code",
   "execution_count": null,
   "id": "8733bbb4-3039-43b0-bc59-207a33f606ce",
   "metadata": {},
   "outputs": [],
   "source": [
    "# importing algorithm for model training - decision tree algorithm\n",
    "from sklearn.tree import DecisionTreeClassifier\n",
    "\n",
    "model = DecisionTreeClassifier() #instance of model\n",
    "model.fit(X_train,y_train) #trainig model on train dataset"
   ]
  },
  {
   "cell_type": "code",
   "execution_count": null,
   "id": "58884432-6385-42ff-ab37-0e2990bd5c4a",
   "metadata": {},
   "outputs": [],
   "source": [
    "# saving trained model for other users especially in real time applications\n",
    "import joblib\n",
    "joblib.dump(model,'music_predictions.joblib')"
   ]
  },
  {
   "cell_type": "code",
   "execution_count": null,
   "id": "b6844568-b47b-4d9a-8ac0-3e9dba4b7371",
   "metadata": {},
   "outputs": [],
   "source": [
    "# getting the trained model and test it along the calculation of accuracy\n",
    "\n",
    "from sklearn.metrics import accuracy_score\n",
    "\n",
    "trained_model = joblib.load('music_predictions.joblib')\n",
    "predict_results = trained_model.predict(X_test)\n",
    "score = accuracy_score(y_test,predict_results)\n",
    "print(f\"Accuracy Score: {score}\")"
   ]
  },
  {
   "cell_type": "code",
   "execution_count": null,
   "id": "353e03ef-f93a-4587-b665-2d164da6b5bb",
   "metadata": {},
   "outputs": [],
   "source": [
    "# Analyze graphically the decision tree algorithm\n",
    "from sklearn import tree\n",
    "\n",
    "tree.export_graphviz(model,out_file=\"music-recommender.dot\",\n",
    "                    feature_names=['age','gender'],\n",
    "                    class_names=sorted(y.unique()),\n",
    "                    label='all',\n",
    "                    rounded=True,\n",
    "                    filled=True)"
   ]
  }
 ],
 "metadata": {
  "kernelspec": {
   "display_name": "Python [conda env:base] *",
   "language": "python",
   "name": "conda-base-py"
  },
  "language_info": {
   "codemirror_mode": {
    "name": "ipython",
    "version": 3
   },
   "file_extension": ".py",
   "mimetype": "text/x-python",
   "name": "python",
   "nbconvert_exporter": "python",
   "pygments_lexer": "ipython3",
   "version": "3.12.7"
  }
 },
 "nbformat": 4,
 "nbformat_minor": 5
}
